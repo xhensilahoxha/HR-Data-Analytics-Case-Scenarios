{
 "cells": [
  {
   "cell_type": "markdown",
   "id": "aee5764c",
   "metadata": {},
   "source": [
    "# What factors to use for prediction of WORK LIFE BALANCE SCORE (WLB) of employees."
   ]
  },
  {
   "cell_type": "markdown",
   "id": "5fdd9cd4",
   "metadata": {},
   "source": [
    "Multiple linear regression to be performed to find the answer."
   ]
  },
  {
   "cell_type": "markdown",
   "id": "785f8466",
   "metadata": {},
   "source": [
    "## Import the neccessary libraries\n",
    "\n"
   ]
  },
  {
   "cell_type": "code",
   "execution_count": 1,
   "id": "80861297",
   "metadata": {},
   "outputs": [],
   "source": [
    "import pandas as pd\n",
    "import numpy as np\n",
    "import seaborn as sns\n",
    "import matplotlib.pyplot as plt"
   ]
  },
  {
   "cell_type": "markdown",
   "id": "6509d3ed",
   "metadata": {},
   "source": [
    "## Import dataset\n",
    "\n",
    "CSV format: fau_clinic_employee_wellbeing.csv"
   ]
  },
  {
   "cell_type": "code",
   "execution_count": 2,
   "id": "f42a3588",
   "metadata": {
    "scrolled": true
   },
   "outputs": [],
   "source": [
    "df = pd.read_csv(\"fau_clinic_employee_wellbeing.csv\", sep = ',')"
   ]
  },
  {
   "cell_type": "markdown",
   "id": "102b4cfc",
   "metadata": {},
   "source": [
    "## Data transformations."
   ]
  },
  {
   "cell_type": "markdown",
   "metadata": {},
   "source": [
    "Remove incorrect data for column "
   ]
  },
  {
   "cell_type": "code",
   "execution_count": 3,
   "id": "f1c42bbd",
   "metadata": {},
   "outputs": [
    {
     "name": "stdout",
     "output_type": "stream",
     "text": [
      "['2' '3' '1' '4' '5' '0']\n"
     ]
    }
   ],
   "source": [
    "df = df[df['DAILY_STRESS'] != '1/1/2000']\n",
    "print(df['DAILY_STRESS'].unique())\n",
    "# print(df.columns)\n"
   ]
  },
  {
   "cell_type": "markdown",
   "id": "0cc74572",
   "metadata": {},
   "source": [
    "Turn string columns to numerical format."
   ]
  },
  {
   "cell_type": "code",
   "execution_count": 4,
   "id": "17106055",
   "metadata": {},
   "outputs": [
    {
     "name": "stdout",
     "output_type": "stream",
     "text": [
      "[0 1]\n",
      "[43 55 28 10]\n",
      "[2 3 1 4 5 0]\n"
     ]
    }
   ],
   "source": [
    "# mapped to binary 0 and 1\n",
    "df['GENDER_NUMERIC'] = df['GENDER'].map({'Female': 0, 'Male': 1})\n",
    "\n",
    "# mapped at age midpoint\n",
    "df['AGE_NUMERIC'] = df['AGE'].map({\n",
    "    'Less than 20': 10,\n",
    "    '21 to 35': 28,\n",
    "    '36 to 50': 43,\n",
    "    '51 or more': 55\n",
    "})\n",
    "df['DAILY_STRESS_INT'] = df['DAILY_STRESS'].map({\n",
    "    '0': 0,\n",
    "    '1': 1,\n",
    "    '2': 2,\n",
    "    '3': 3,\n",
    "    '4': 4,\n",
    "    '5': 5\n",
    "})\n",
    "print(df['GENDER_NUMERIC'].unique())\n",
    "print(df['AGE_NUMERIC'].unique())\n",
    "print(df['DAILY_STRESS_INT'].unique())\n",
    "# df = df.drop(columns=['AGE', 'GENDER'], errors='ignore')"
   ]
  },
  {
   "cell_type": "code",
   "execution_count": 5,
   "id": "b36d3487",
   "metadata": {},
   "outputs": [],
   "source": [
    "df = df.drop(columns=['AGE', 'GENDER', 'DAILY_STRESS'], errors='ignore')"
   ]
  },
  {
   "cell_type": "code",
   "execution_count": 6,
   "id": "77a9db75",
   "metadata": {},
   "outputs": [
    {
     "name": "stdout",
     "output_type": "stream",
     "text": [
      "   SOCIAL_NETWORK  ACHIEVEMENT  BMI_RANGE  TODO_COMPLETED  DAILY_STEPS  \\\n",
      "0               5            2          1               6            5   \n",
      "1              10            5          2               5            5   \n",
      "2              10            3          2               2            4   \n",
      "\n",
      "   SLEEP_HOURS  SUFFICIENT_INCOME  PERSONAL_AWARDS  TIME_FOR_HOBBY  \\\n",
      "0            7                  1                4               0   \n",
      "1            8                  2                3               2   \n",
      "2            8                  2                4               8   \n",
      "\n",
      "   WEEKLY_MEDITATION  WORK_LIFE_BALANCE_SCORE  GENDER_NUMERIC  AGE_NUMERIC  \\\n",
      "0                  5                    609.5               0           43   \n",
      "1                  6                    655.6               0           43   \n",
      "2                  3                    631.6               0           43   \n",
      "\n",
      "   DAILY_STRESS_INT  \n",
      "0                 2  \n",
      "1                 3  \n",
      "2                 3  \n"
     ]
    }
   ],
   "source": [
    "print(df.head(3))"
   ]
  },
  {
   "cell_type": "markdown",
   "id": "46c518fd",
   "metadata": {},
   "source": [
    "## Dependent variable (y) and the independent variable (x). \n",
    "In our case the dependent variable would be the work-life-balance score and all of the other variables would be independent. "
   ]
  },
  {
   "cell_type": "code",
   "execution_count": 7,
   "id": "37a2946b",
   "metadata": {},
   "outputs": [],
   "source": [
    "x = df.drop(['WORK_LIFE_BALANCE_SCORE'], axis=1)\n",
    "y = df['WORK_LIFE_BALANCE_SCORE']"
   ]
  },
  {
   "cell_type": "markdown",
   "id": "4a279c80",
   "metadata": {},
   "source": [
    "## Training set and test set\n",
    "We have to divide our dataset to the training set and test set. \n",
    "\n",
    "First we train the model and then test how it works. \n",
    "\n",
    "70-30 split (70% training, 30% testing).\n"
   ]
  },
  {
   "cell_type": "code",
   "execution_count": 8,
   "id": "75766313",
   "metadata": {},
   "outputs": [],
   "source": [
    "from sklearn.model_selection import train_test_split\n",
    "x_train, x_test, y_train, y_test = train_test_split(x, y, test_size = 0.3, random_state = 42)"
   ]
  },
  {
   "cell_type": "markdown",
   "id": "11c6e216",
   "metadata": {},
   "source": [
    "## Train the model on the training set\n",
    "\n",
    "Now we train our model with the help of LinearRegression function."
   ]
  },
  {
   "cell_type": "code",
   "execution_count": 9,
   "id": "5ca78d8b",
   "metadata": {},
   "outputs": [
    {
     "data": {
      "text/html": [
       "<style>#sk-container-id-1 {\n",
       "  /* Definition of color scheme common for light and dark mode */\n",
       "  --sklearn-color-text: black;\n",
       "  --sklearn-color-line: gray;\n",
       "  /* Definition of color scheme for unfitted estimators */\n",
       "  --sklearn-color-unfitted-level-0: #fff5e6;\n",
       "  --sklearn-color-unfitted-level-1: #f6e4d2;\n",
       "  --sklearn-color-unfitted-level-2: #ffe0b3;\n",
       "  --sklearn-color-unfitted-level-3: chocolate;\n",
       "  /* Definition of color scheme for fitted estimators */\n",
       "  --sklearn-color-fitted-level-0: #f0f8ff;\n",
       "  --sklearn-color-fitted-level-1: #d4ebff;\n",
       "  --sklearn-color-fitted-level-2: #b3dbfd;\n",
       "  --sklearn-color-fitted-level-3: cornflowerblue;\n",
       "\n",
       "  /* Specific color for light theme */\n",
       "  --sklearn-color-text-on-default-background: var(--sg-text-color, var(--theme-code-foreground, var(--jp-content-font-color1, black)));\n",
       "  --sklearn-color-background: var(--sg-background-color, var(--theme-background, var(--jp-layout-color0, white)));\n",
       "  --sklearn-color-border-box: var(--sg-text-color, var(--theme-code-foreground, var(--jp-content-font-color1, black)));\n",
       "  --sklearn-color-icon: #696969;\n",
       "\n",
       "  @media (prefers-color-scheme: dark) {\n",
       "    /* Redefinition of color scheme for dark theme */\n",
       "    --sklearn-color-text-on-default-background: var(--sg-text-color, var(--theme-code-foreground, var(--jp-content-font-color1, white)));\n",
       "    --sklearn-color-background: var(--sg-background-color, var(--theme-background, var(--jp-layout-color0, #111)));\n",
       "    --sklearn-color-border-box: var(--sg-text-color, var(--theme-code-foreground, var(--jp-content-font-color1, white)));\n",
       "    --sklearn-color-icon: #878787;\n",
       "  }\n",
       "}\n",
       "\n",
       "#sk-container-id-1 {\n",
       "  color: var(--sklearn-color-text);\n",
       "}\n",
       "\n",
       "#sk-container-id-1 pre {\n",
       "  padding: 0;\n",
       "}\n",
       "\n",
       "#sk-container-id-1 input.sk-hidden--visually {\n",
       "  border: 0;\n",
       "  clip: rect(1px 1px 1px 1px);\n",
       "  clip: rect(1px, 1px, 1px, 1px);\n",
       "  height: 1px;\n",
       "  margin: -1px;\n",
       "  overflow: hidden;\n",
       "  padding: 0;\n",
       "  position: absolute;\n",
       "  width: 1px;\n",
       "}\n",
       "\n",
       "#sk-container-id-1 div.sk-dashed-wrapped {\n",
       "  border: 1px dashed var(--sklearn-color-line);\n",
       "  margin: 0 0.4em 0.5em 0.4em;\n",
       "  box-sizing: border-box;\n",
       "  padding-bottom: 0.4em;\n",
       "  background-color: var(--sklearn-color-background);\n",
       "}\n",
       "\n",
       "#sk-container-id-1 div.sk-container {\n",
       "  /* jupyter's `normalize.less` sets `[hidden] { display: none; }`\n",
       "     but bootstrap.min.css set `[hidden] { display: none !important; }`\n",
       "     so we also need the `!important` here to be able to override the\n",
       "     default hidden behavior on the sphinx rendered scikit-learn.org.\n",
       "     See: https://github.com/scikit-learn/scikit-learn/issues/21755 */\n",
       "  display: inline-block !important;\n",
       "  position: relative;\n",
       "}\n",
       "\n",
       "#sk-container-id-1 div.sk-text-repr-fallback {\n",
       "  display: none;\n",
       "}\n",
       "\n",
       "div.sk-parallel-item,\n",
       "div.sk-serial,\n",
       "div.sk-item {\n",
       "  /* draw centered vertical line to link estimators */\n",
       "  background-image: linear-gradient(var(--sklearn-color-text-on-default-background), var(--sklearn-color-text-on-default-background));\n",
       "  background-size: 2px 100%;\n",
       "  background-repeat: no-repeat;\n",
       "  background-position: center center;\n",
       "}\n",
       "\n",
       "/* Parallel-specific style estimator block */\n",
       "\n",
       "#sk-container-id-1 div.sk-parallel-item::after {\n",
       "  content: \"\";\n",
       "  width: 100%;\n",
       "  border-bottom: 2px solid var(--sklearn-color-text-on-default-background);\n",
       "  flex-grow: 1;\n",
       "}\n",
       "\n",
       "#sk-container-id-1 div.sk-parallel {\n",
       "  display: flex;\n",
       "  align-items: stretch;\n",
       "  justify-content: center;\n",
       "  background-color: var(--sklearn-color-background);\n",
       "  position: relative;\n",
       "}\n",
       "\n",
       "#sk-container-id-1 div.sk-parallel-item {\n",
       "  display: flex;\n",
       "  flex-direction: column;\n",
       "}\n",
       "\n",
       "#sk-container-id-1 div.sk-parallel-item:first-child::after {\n",
       "  align-self: flex-end;\n",
       "  width: 50%;\n",
       "}\n",
       "\n",
       "#sk-container-id-1 div.sk-parallel-item:last-child::after {\n",
       "  align-self: flex-start;\n",
       "  width: 50%;\n",
       "}\n",
       "\n",
       "#sk-container-id-1 div.sk-parallel-item:only-child::after {\n",
       "  width: 0;\n",
       "}\n",
       "\n",
       "/* Serial-specific style estimator block */\n",
       "\n",
       "#sk-container-id-1 div.sk-serial {\n",
       "  display: flex;\n",
       "  flex-direction: column;\n",
       "  align-items: center;\n",
       "  background-color: var(--sklearn-color-background);\n",
       "  padding-right: 1em;\n",
       "  padding-left: 1em;\n",
       "}\n",
       "\n",
       "\n",
       "/* Toggleable style: style used for estimator/Pipeline/ColumnTransformer box that is\n",
       "clickable and can be expanded/collapsed.\n",
       "- Pipeline and ColumnTransformer use this feature and define the default style\n",
       "- Estimators will overwrite some part of the style using the `sk-estimator` class\n",
       "*/\n",
       "\n",
       "/* Pipeline and ColumnTransformer style (default) */\n",
       "\n",
       "#sk-container-id-1 div.sk-toggleable {\n",
       "  /* Default theme specific background. It is overwritten whether we have a\n",
       "  specific estimator or a Pipeline/ColumnTransformer */\n",
       "  background-color: var(--sklearn-color-background);\n",
       "}\n",
       "\n",
       "/* Toggleable label */\n",
       "#sk-container-id-1 label.sk-toggleable__label {\n",
       "  cursor: pointer;\n",
       "  display: block;\n",
       "  width: 100%;\n",
       "  margin-bottom: 0;\n",
       "  padding: 0.5em;\n",
       "  box-sizing: border-box;\n",
       "  text-align: center;\n",
       "}\n",
       "\n",
       "#sk-container-id-1 label.sk-toggleable__label-arrow:before {\n",
       "  /* Arrow on the left of the label */\n",
       "  content: \"▸\";\n",
       "  float: left;\n",
       "  margin-right: 0.25em;\n",
       "  color: var(--sklearn-color-icon);\n",
       "}\n",
       "\n",
       "#sk-container-id-1 label.sk-toggleable__label-arrow:hover:before {\n",
       "  color: var(--sklearn-color-text);\n",
       "}\n",
       "\n",
       "/* Toggleable content - dropdown */\n",
       "\n",
       "#sk-container-id-1 div.sk-toggleable__content {\n",
       "  max-height: 0;\n",
       "  max-width: 0;\n",
       "  overflow: hidden;\n",
       "  text-align: left;\n",
       "  /* unfitted */\n",
       "  background-color: var(--sklearn-color-unfitted-level-0);\n",
       "}\n",
       "\n",
       "#sk-container-id-1 div.sk-toggleable__content.fitted {\n",
       "  /* fitted */\n",
       "  background-color: var(--sklearn-color-fitted-level-0);\n",
       "}\n",
       "\n",
       "#sk-container-id-1 div.sk-toggleable__content pre {\n",
       "  margin: 0.2em;\n",
       "  border-radius: 0.25em;\n",
       "  color: var(--sklearn-color-text);\n",
       "  /* unfitted */\n",
       "  background-color: var(--sklearn-color-unfitted-level-0);\n",
       "}\n",
       "\n",
       "#sk-container-id-1 div.sk-toggleable__content.fitted pre {\n",
       "  /* unfitted */\n",
       "  background-color: var(--sklearn-color-fitted-level-0);\n",
       "}\n",
       "\n",
       "#sk-container-id-1 input.sk-toggleable__control:checked~div.sk-toggleable__content {\n",
       "  /* Expand drop-down */\n",
       "  max-height: 200px;\n",
       "  max-width: 100%;\n",
       "  overflow: auto;\n",
       "}\n",
       "\n",
       "#sk-container-id-1 input.sk-toggleable__control:checked~label.sk-toggleable__label-arrow:before {\n",
       "  content: \"▾\";\n",
       "}\n",
       "\n",
       "/* Pipeline/ColumnTransformer-specific style */\n",
       "\n",
       "#sk-container-id-1 div.sk-label input.sk-toggleable__control:checked~label.sk-toggleable__label {\n",
       "  color: var(--sklearn-color-text);\n",
       "  background-color: var(--sklearn-color-unfitted-level-2);\n",
       "}\n",
       "\n",
       "#sk-container-id-1 div.sk-label.fitted input.sk-toggleable__control:checked~label.sk-toggleable__label {\n",
       "  background-color: var(--sklearn-color-fitted-level-2);\n",
       "}\n",
       "\n",
       "/* Estimator-specific style */\n",
       "\n",
       "/* Colorize estimator box */\n",
       "#sk-container-id-1 div.sk-estimator input.sk-toggleable__control:checked~label.sk-toggleable__label {\n",
       "  /* unfitted */\n",
       "  background-color: var(--sklearn-color-unfitted-level-2);\n",
       "}\n",
       "\n",
       "#sk-container-id-1 div.sk-estimator.fitted input.sk-toggleable__control:checked~label.sk-toggleable__label {\n",
       "  /* fitted */\n",
       "  background-color: var(--sklearn-color-fitted-level-2);\n",
       "}\n",
       "\n",
       "#sk-container-id-1 div.sk-label label.sk-toggleable__label,\n",
       "#sk-container-id-1 div.sk-label label {\n",
       "  /* The background is the default theme color */\n",
       "  color: var(--sklearn-color-text-on-default-background);\n",
       "}\n",
       "\n",
       "/* On hover, darken the color of the background */\n",
       "#sk-container-id-1 div.sk-label:hover label.sk-toggleable__label {\n",
       "  color: var(--sklearn-color-text);\n",
       "  background-color: var(--sklearn-color-unfitted-level-2);\n",
       "}\n",
       "\n",
       "/* Label box, darken color on hover, fitted */\n",
       "#sk-container-id-1 div.sk-label.fitted:hover label.sk-toggleable__label.fitted {\n",
       "  color: var(--sklearn-color-text);\n",
       "  background-color: var(--sklearn-color-fitted-level-2);\n",
       "}\n",
       "\n",
       "/* Estimator label */\n",
       "\n",
       "#sk-container-id-1 div.sk-label label {\n",
       "  font-family: monospace;\n",
       "  font-weight: bold;\n",
       "  display: inline-block;\n",
       "  line-height: 1.2em;\n",
       "}\n",
       "\n",
       "#sk-container-id-1 div.sk-label-container {\n",
       "  text-align: center;\n",
       "}\n",
       "\n",
       "/* Estimator-specific */\n",
       "#sk-container-id-1 div.sk-estimator {\n",
       "  font-family: monospace;\n",
       "  border: 1px dotted var(--sklearn-color-border-box);\n",
       "  border-radius: 0.25em;\n",
       "  box-sizing: border-box;\n",
       "  margin-bottom: 0.5em;\n",
       "  /* unfitted */\n",
       "  background-color: var(--sklearn-color-unfitted-level-0);\n",
       "}\n",
       "\n",
       "#sk-container-id-1 div.sk-estimator.fitted {\n",
       "  /* fitted */\n",
       "  background-color: var(--sklearn-color-fitted-level-0);\n",
       "}\n",
       "\n",
       "/* on hover */\n",
       "#sk-container-id-1 div.sk-estimator:hover {\n",
       "  /* unfitted */\n",
       "  background-color: var(--sklearn-color-unfitted-level-2);\n",
       "}\n",
       "\n",
       "#sk-container-id-1 div.sk-estimator.fitted:hover {\n",
       "  /* fitted */\n",
       "  background-color: var(--sklearn-color-fitted-level-2);\n",
       "}\n",
       "\n",
       "/* Specification for estimator info (e.g. \"i\" and \"?\") */\n",
       "\n",
       "/* Common style for \"i\" and \"?\" */\n",
       "\n",
       ".sk-estimator-doc-link,\n",
       "a:link.sk-estimator-doc-link,\n",
       "a:visited.sk-estimator-doc-link {\n",
       "  float: right;\n",
       "  font-size: smaller;\n",
       "  line-height: 1em;\n",
       "  font-family: monospace;\n",
       "  background-color: var(--sklearn-color-background);\n",
       "  border-radius: 1em;\n",
       "  height: 1em;\n",
       "  width: 1em;\n",
       "  text-decoration: none !important;\n",
       "  margin-left: 1ex;\n",
       "  /* unfitted */\n",
       "  border: var(--sklearn-color-unfitted-level-1) 1pt solid;\n",
       "  color: var(--sklearn-color-unfitted-level-1);\n",
       "}\n",
       "\n",
       ".sk-estimator-doc-link.fitted,\n",
       "a:link.sk-estimator-doc-link.fitted,\n",
       "a:visited.sk-estimator-doc-link.fitted {\n",
       "  /* fitted */\n",
       "  border: var(--sklearn-color-fitted-level-1) 1pt solid;\n",
       "  color: var(--sklearn-color-fitted-level-1);\n",
       "}\n",
       "\n",
       "/* On hover */\n",
       "div.sk-estimator:hover .sk-estimator-doc-link:hover,\n",
       ".sk-estimator-doc-link:hover,\n",
       "div.sk-label-container:hover .sk-estimator-doc-link:hover,\n",
       ".sk-estimator-doc-link:hover {\n",
       "  /* unfitted */\n",
       "  background-color: var(--sklearn-color-unfitted-level-3);\n",
       "  color: var(--sklearn-color-background);\n",
       "  text-decoration: none;\n",
       "}\n",
       "\n",
       "div.sk-estimator.fitted:hover .sk-estimator-doc-link.fitted:hover,\n",
       ".sk-estimator-doc-link.fitted:hover,\n",
       "div.sk-label-container:hover .sk-estimator-doc-link.fitted:hover,\n",
       ".sk-estimator-doc-link.fitted:hover {\n",
       "  /* fitted */\n",
       "  background-color: var(--sklearn-color-fitted-level-3);\n",
       "  color: var(--sklearn-color-background);\n",
       "  text-decoration: none;\n",
       "}\n",
       "\n",
       "/* Span, style for the box shown on hovering the info icon */\n",
       ".sk-estimator-doc-link span {\n",
       "  display: none;\n",
       "  z-index: 9999;\n",
       "  position: relative;\n",
       "  font-weight: normal;\n",
       "  right: .2ex;\n",
       "  padding: .5ex;\n",
       "  margin: .5ex;\n",
       "  width: min-content;\n",
       "  min-width: 20ex;\n",
       "  max-width: 50ex;\n",
       "  color: var(--sklearn-color-text);\n",
       "  box-shadow: 2pt 2pt 4pt #999;\n",
       "  /* unfitted */\n",
       "  background: var(--sklearn-color-unfitted-level-0);\n",
       "  border: .5pt solid var(--sklearn-color-unfitted-level-3);\n",
       "}\n",
       "\n",
       ".sk-estimator-doc-link.fitted span {\n",
       "  /* fitted */\n",
       "  background: var(--sklearn-color-fitted-level-0);\n",
       "  border: var(--sklearn-color-fitted-level-3);\n",
       "}\n",
       "\n",
       ".sk-estimator-doc-link:hover span {\n",
       "  display: block;\n",
       "}\n",
       "\n",
       "/* \"?\"-specific style due to the `<a>` HTML tag */\n",
       "\n",
       "#sk-container-id-1 a.estimator_doc_link {\n",
       "  float: right;\n",
       "  font-size: 1rem;\n",
       "  line-height: 1em;\n",
       "  font-family: monospace;\n",
       "  background-color: var(--sklearn-color-background);\n",
       "  border-radius: 1rem;\n",
       "  height: 1rem;\n",
       "  width: 1rem;\n",
       "  text-decoration: none;\n",
       "  /* unfitted */\n",
       "  color: var(--sklearn-color-unfitted-level-1);\n",
       "  border: var(--sklearn-color-unfitted-level-1) 1pt solid;\n",
       "}\n",
       "\n",
       "#sk-container-id-1 a.estimator_doc_link.fitted {\n",
       "  /* fitted */\n",
       "  border: var(--sklearn-color-fitted-level-1) 1pt solid;\n",
       "  color: var(--sklearn-color-fitted-level-1);\n",
       "}\n",
       "\n",
       "/* On hover */\n",
       "#sk-container-id-1 a.estimator_doc_link:hover {\n",
       "  /* unfitted */\n",
       "  background-color: var(--sklearn-color-unfitted-level-3);\n",
       "  color: var(--sklearn-color-background);\n",
       "  text-decoration: none;\n",
       "}\n",
       "\n",
       "#sk-container-id-1 a.estimator_doc_link.fitted:hover {\n",
       "  /* fitted */\n",
       "  background-color: var(--sklearn-color-fitted-level-3);\n",
       "}\n",
       "</style><div id=\"sk-container-id-1\" class=\"sk-top-container\"><div class=\"sk-text-repr-fallback\"><pre>LinearRegression()</pre><b>In a Jupyter environment, please rerun this cell to show the HTML representation or trust the notebook. <br />On GitHub, the HTML representation is unable to render, please try loading this page with nbviewer.org.</b></div><div class=\"sk-container\" hidden><div class=\"sk-item\"><div class=\"sk-estimator fitted sk-toggleable\"><input class=\"sk-toggleable__control sk-hidden--visually\" id=\"sk-estimator-id-1\" type=\"checkbox\" checked><label for=\"sk-estimator-id-1\" class=\"sk-toggleable__label fitted sk-toggleable__label-arrow fitted\">&nbsp;&nbsp;LinearRegression<a class=\"sk-estimator-doc-link fitted\" rel=\"noreferrer\" target=\"_blank\" href=\"https://scikit-learn.org/1.5/modules/generated/sklearn.linear_model.LinearRegression.html\">?<span>Documentation for LinearRegression</span></a><span class=\"sk-estimator-doc-link fitted\">i<span>Fitted</span></span></label><div class=\"sk-toggleable__content fitted\"><pre>LinearRegression()</pre></div> </div></div></div></div>"
      ],
      "text/plain": [
       "LinearRegression()"
      ]
     },
     "execution_count": 9,
     "metadata": {},
     "output_type": "execute_result"
    }
   ],
   "source": [
    "from sklearn.linear_model import LinearRegression \n",
    "ml = LinearRegression()\n",
    "ml.fit(x_train, y_train)"
   ]
  },
  {
   "cell_type": "markdown",
   "id": "6598a45d",
   "metadata": {},
   "source": [
    "## Evaluate the model"
   ]
  },
  {
   "cell_type": "markdown",
   "id": "2a7dd5f8",
   "metadata": {},
   "source": [
    "(1) Use r2 score. The closer this score is to 1 the more precise the model is. \n",
    "\n",
    "The r2 score is around 0.85, which means that 85% of the variability observed in the WLB score is explained by the regression model. This value indicates that the model fits the data well."
   ]
  },
  {
   "cell_type": "code",
   "execution_count": 10,
   "id": "2d09f0bd",
   "metadata": {},
   "outputs": [
    {
     "name": "stdout",
     "output_type": "stream",
     "text": [
      "r2 Score: 0.8505587127619704\n"
     ]
    }
   ],
   "source": [
    "from sklearn.metrics import r2_score\n",
    "y_pred = ml.predict(x_test)\n",
    "r2 = r2_score(y_test, y_pred)\n",
    "print(f\"r2 Score: {r2}\")"
   ]
  },
  {
   "cell_type": "markdown",
   "id": "790088e9",
   "metadata": {},
   "source": [
    "(2) A tabular form of the difference between the real value found in the dataset and the predicted value by the trained model.\n"
   ]
  },
  {
   "cell_type": "code",
   "execution_count": 11,
   "id": "c44d1d31",
   "metadata": {},
   "outputs": [
    {
     "name": "stdout",
     "output_type": "stream",
     "text": [
      "       Actual   Predicted  Difference  Relative_Difference (%)\n",
      "10731   644.3  625.585421   18.714579                 2.904637\n",
      "476     563.7  594.369123  -30.669123                 5.440682\n",
      "4291    616.7  625.713859   -9.013859                 1.461628\n",
      "1402    704.3  680.135319   24.164681                 3.431021\n",
      "6497    744.2  753.329953   -9.129953                 1.226814\n",
      "937     712.5  719.392166   -6.892166                 0.967322\n",
      "7831    695.8  682.402592   13.397408                 1.925468\n"
     ]
    }
   ],
   "source": [
    "\n",
    "results = pd.DataFrame({\n",
    "    \"Actual\": y_test,\n",
    "    \"Predicted\": y_pred,\n",
    "    \"Difference\": y_test - y_pred\n",
    "})\n",
    "results['Relative_Difference (%)'] = abs(results['Difference']\n",
    "                                          / results['Actual']) * 100\n",
    "\n",
    "print(results.head(7)) \n"
   ]
  },
  {
   "cell_type": "markdown",
   "id": "8beabeb3",
   "metadata": {},
   "source": [
    "The predicted values are reasonably close to the actual values. The model captures the relationship between the features and the target variable but there is room for improvement. The model also overestimates in some instances, especially for lower and higher scores."
   ]
  },
  {
   "cell_type": "markdown",
   "id": "b6561f9f",
   "metadata": {},
   "source": [
    "(3) WLB score of an employee: a new record of the employee. "
   ]
  },
  {
   "cell_type": "code",
   "execution_count": 12,
   "id": "390a95ab",
   "metadata": {},
   "outputs": [
    {
     "name": "stdout",
     "output_type": "stream",
     "text": [
      "[648.55520946]\n"
     ]
    }
   ],
   "source": [
    "new_employee = pd.DataFrame({\n",
    "    \"SOCIAL_NETWORK\": [2],\n",
    "    \"ACHIEVEMENT\": [2],\n",
    "    \"BMI_RANGE\": [1],\n",
    "    \"TODO_COMPLETED\": [6],\n",
    "    \"DAILY_STEPS\": [1],\n",
    "    \"SLEEP_HOURS\": [2],\n",
    "    \"SUFFICIENT_INCOME\": [4],\n",
    "    \"PERSONAL_AWARDS\": [4],\n",
    "    \"TIME_FOR_HOBBY\": [2],\n",
    "    \"WEEKLY_MEDITATION\": [4],\n",
    "    \"GENDER_NUMERIC\": [1], \n",
    "    \"AGE_NUMERIC\": [30],\n",
    "    \"DAILY_STRESS_INT\": [4]\n",
    "})\n",
    "predicted_value = ml.predict(new_employee)\n",
    "\n",
    "print(predicted_value)"
   ]
  },
  {
   "cell_type": "markdown",
   "id": "d02ab717",
   "metadata": {},
   "source": [
    "The model predicted the WLB score of this employee: 648.55.\n",
    "\n",
    "We can say that model predicts pretty good.\n"
   ]
  },
  {
   "cell_type": "markdown",
   "id": "dae93f77",
   "metadata": {},
   "source": [
    "####  (Optional) Plot the results\n",
    "\n"
   ]
  },
  {
   "cell_type": "code",
   "execution_count": 13,
   "id": "f95a2af7",
   "metadata": {},
   "outputs": [
    {
     "data": {
      "text/plain": [
       "Text(0.5, 1.0, 'Actual vs. Predicted')"
      ]
     },
     "execution_count": 13,
     "metadata": {},
     "output_type": "execute_result"
    },
    {
     "data": {
      "image/png": "[encoded data removed]",
      "text/plain": [
       "<Figure size 1500x1000 with 1 Axes>"
      ]
     },
     "metadata": {},
     "output_type": "display_data"
    }
   ],
   "source": [
    "import matplotlib.pyplot as plt\n",
    "plt.figure(figsize=(15,10))\n",
    "plt.scatter(y_test, y_pred)\n",
    "plt.xlabel('Actual')\n",
    "plt.ylabel('Predicted')\n",
    "plt.title('Actual vs. Predicted')"
   ]
  },
  {
   "cell_type": "markdown",
   "id": "f658715a",
   "metadata": {},
   "source": [
    "Linear correlation between actual and predicted values which shows that our model is appropriate. "
   ]
  },
  {
   "cell_type": "markdown",
   "id": "4333ee5d",
   "metadata": {},
   "source": [
    "## The summary of the model\n"
   ]
  },
  {
   "cell_type": "code",
   "execution_count": 14,
   "id": "ece0002e",
   "metadata": {},
   "outputs": [
    {
     "name": "stdout",
     "output_type": "stream",
     "text": [
      "                            Results: Ordinary least squares\n",
      "========================================================================================\n",
      "Model:                  OLS                     Adj. R-squared (uncentered): 0.992      \n",
      "Dependent Variable:     WORK_LIFE_BALANCE_SCORE AIC:                         176315.1730\n",
      "Date:                   2025-09-20 14:13        BIC:                         176414.9939\n",
      "No. Observations:       15971                   Log-Likelihood:              -88145.    \n",
      "Df Model:               13                      F-statistic:                 1.493e+05  \n",
      "Df Residuals:           15958                   Prob (F-statistic):          0.00       \n",
      "R-squared (uncentered): 0.992                   Scale:                       3644.7     \n",
      "--------------------------------------------------------------------------------------------\n",
      "                         Coef.      Std.Err.        t         P>|t|       [0.025      0.975]\n",
      "--------------------------------------------------------------------------------------------\n",
      "SOCIAL_NETWORK           5.5977       0.1663      33.6690     0.0000      5.2718      5.9236\n",
      "ACHIEVEMENT              3.4148       0.2044      16.7091     0.0000      3.0143      3.8154\n",
      "BMI_RANGE               21.6105       0.9566      22.5904     0.0000     19.7354     23.4856\n",
      "TODO_COMPLETED           4.4162       0.2049      21.5533     0.0000      4.0146      4.8179\n",
      "DAILY_STEPS              5.9808       0.1733      34.5067     0.0000      5.6410      6.3205\n",
      "SLEEP_HOURS             37.2054       0.2995     124.2346     0.0000     36.6184     37.7924\n",
      "SUFFICIENT_INCOME       66.3293       1.0643      62.3214     0.0000     64.2431     68.4155\n",
      "PERSONAL_AWARDS          3.3625       0.1743      19.2947     0.0000      3.0209      3.7041\n",
      "TIME_FOR_HOBBY           3.8780       0.1956      19.8287     0.0000      3.4946      4.2613\n",
      "WEEKLY_MEDITATION        4.8940       0.1696      28.8604     0.0000      4.5616      5.2264\n",
      "GENDER_NUMERIC          17.2099       0.9897      17.3888     0.0000     15.2700     19.1499\n",
      "AGE_NUMERIC              1.1099       0.0359      30.9526     0.0000      1.0396      1.1802\n",
      "DAILY_STRESS_INT        12.4449       0.3398      36.6191     0.0000     11.7787     13.1110\n",
      "----------------------------------------------------------------------------------------\n",
      "Omnibus:                     361.627              Durbin-Watson:                 1.815  \n",
      "Prob(Omnibus):               0.000                Jarque-Bera (JB):              533.447\n",
      "Skew:                        0.248                Prob(JB):                      0.000  \n",
      "Kurtosis:                    3.746                Condition No.:                 96     \n",
      "========================================================================================\n",
      "Notes:\n",
      "[1] R² is computed without centering (uncentered) since the                 model does\n",
      "not contain a constant.\n",
      "[2] Standard Errors assume that the covariance matrix of the errors is correctly\n",
      "specified.\n"
     ]
    }
   ],
   "source": [
    "import statsmodels.api as sm\n",
    "model = sm.OLS(y, x).fit()\n",
    "print(model.summary2())"
   ]
  },
  {
   "cell_type": "markdown",
   "id": "f2293d62",
   "metadata": {},
   "source": [
    "#### Interpretation"
   ]
  },
  {
   "cell_type": "markdown",
   "id": "b7d78291",
   "metadata": {},
   "source": [
    "1. Most variables (social network, sleep hours, income, daily steps) show strong positive relationships with work-life balance.\n",
    "2. All variables in the model are statistically significant, indicating they all have an impact on work-life balance."
   ]
  }
 ],
 "metadata": {
  "kernelspec": {
   "display_name": "Python 3",
   "language": "python",
   "name": "python3"
  },
  "language_info": {
   "codemirror_mode": {
    "name": "ipython",
    "version": 3
   },
   "file_extension": ".py",
   "mimetype": "text/x-python",
   "name": "python",
   "nbconvert_exporter": "python",
   "pygments_lexer": "ipython3",
   "version": "3.12.6"
  }
 },
 "nbformat": 4,
 "nbformat_minor": 5
}
